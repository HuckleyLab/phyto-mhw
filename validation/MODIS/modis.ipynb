{
 "cells": [
  {
   "cell_type": "code",
   "execution_count": 560,
   "metadata": {},
   "outputs": [],
   "source": [
    "import rasterio as rio\n",
    "import rasterio.mask\n",
    "from rasterio.io import MemoryFile \n",
    "import boto3\n",
    "import s3fs\n",
    "from datetime import datetime\n",
    "from datetime import timedelta\n",
    "from itertools import chain\n",
    "import requests\n",
    "import subprocess\n",
    "import tempfile\n",
    "import os\n",
    "import shutil\n",
    "import numpy as np\n",
    "from numpy import ma\n",
    "from functools import reduce\n",
    "from functools import partial\n",
    "import pyproj\n",
    "from glob import glob\n",
    "\n",
    "from dask.distributed import Client\n",
    "from dask import delayed\n",
    "\n",
    "from io import BytesIO\n",
    "\n",
    "import xarray as xr\n",
    "\n",
    "import geopandas as gpd\n",
    "\n",
    "import pandas as pd\n",
    "\n",
    "from shapely import geometry\n",
    "from shapely import ops\n",
    "\n",
    "import matplotlib.pyplot as plt\n",
    "from cmr import GranuleQuery\n",
    "\n",
    "MODIS_CMR_COLLECTION_NAME = \"MODISA_L3m_CHL\"\n",
    "MODIS_YEARS = {\n",
    "    'start': pd.to_datetime(\"20020704\"), \n",
    "    'end': pd.to_datetime(\"20210101\")\n",
    "}"
   ]
  },
  {
   "cell_type": "markdown",
   "metadata": {},
   "source": [
    "## Download MODIS data to validate MHWs\n",
    "\n",
    "We need to download MODIS Chlorophyll-a data in order to validate physiological responses to MHWs. MODIS captures much of the planet every day, so we can relatively easily try to assess all detected MHWs. There are a few caveats to this:\n",
    "* MODIS measurement swaths do not overlap -- while all latitudes are covered by MODIS measurements, all longitudes are not, in a single day. \n",
    "* There are 8 day gridded products which are likely to have full-planet coverage, so we could use those (+ limit MHW length to 8 days minimum?)\n",
    "* we could also try to get all MODIS products for the duration of a MHW and just aggregate the ones that contain data"
   ]
  },
  {
   "cell_type": "code",
   "execution_count": 2,
   "metadata": {},
   "outputs": [
    {
     "data": {
      "text/plain": [
       "89"
      ]
     },
     "execution_count": 2,
     "metadata": {},
     "output_type": "execute_result"
    }
   ],
   "source": [
    "plankton = pd.read_csv(\"../../data/Phytoplankton_temperature_growth_rate_dataset_2016_01_29/traits_derived_2016_01_29.csv\", engine='python')\n",
    "\n",
    "plankton = plankton.set_index('isolate.code')\n",
    "\n",
    "plankton = plankton[\n",
    "    (plankton.habitat == 'marine') & \n",
    "    (plankton.curvequal == 'good')\n",
    "]\n",
    "\n",
    "plankton = plankton.dropna(axis=0, subset=['isolation.latitude', 'isolation.longitude'])\n",
    "\n",
    "len(plankton)\n"
   ]
  },
  {
   "cell_type": "code",
   "execution_count": 3,
   "metadata": {},
   "outputs": [
    {
     "data": {
      "text/html": [
       "<div>\n",
       "<style scoped>\n",
       "    .dataframe tbody tr th:only-of-type {\n",
       "        vertical-align: middle;\n",
       "    }\n",
       "\n",
       "    .dataframe tbody tr th {\n",
       "        vertical-align: top;\n",
       "    }\n",
       "\n",
       "    .dataframe thead th {\n",
       "        text-align: right;\n",
       "    }\n",
       "</style>\n",
       "<table border=\"1\" class=\"dataframe\">\n",
       "  <thead>\n",
       "    <tr style=\"text-align: right;\">\n",
       "      <th></th>\n",
       "      <th>Unnamed: 0</th>\n",
       "      <th>lat</th>\n",
       "      <th>lon</th>\n",
       "      <th>isolate</th>\n",
       "      <th>mhw</th>\n",
       "      <th>detriment_sum</th>\n",
       "      <th>relative_detriment_mean</th>\n",
       "      <th>detriment_mean</th>\n",
       "      <th>performance_diff_mean</th>\n",
       "      <th>performance_diff_unscaled_mean</th>\n",
       "      <th>...</th>\n",
       "      <th>intensity_mean</th>\n",
       "      <th>duration</th>\n",
       "      <th>start_doy</th>\n",
       "      <th>peak_doy</th>\n",
       "      <th>current_year_sst_mean</th>\n",
       "      <th>start_date</th>\n",
       "      <th>peak_date</th>\n",
       "      <th>perf_det_ratio</th>\n",
       "      <th>latbin</th>\n",
       "      <th>doy_bins</th>\n",
       "    </tr>\n",
       "  </thead>\n",
       "  <tbody>\n",
       "    <tr>\n",
       "      <th>0</th>\n",
       "      <td>0</td>\n",
       "      <td>-74.875</td>\n",
       "      <td>164.625</td>\n",
       "      <td>1</td>\n",
       "      <td>4.0</td>\n",
       "      <td>3.433027</td>\n",
       "      <td>1.303966</td>\n",
       "      <td>0.429128</td>\n",
       "      <td>0.237193</td>\n",
       "      <td>0.078059</td>\n",
       "      <td>...</td>\n",
       "      <td>1.297811</td>\n",
       "      <td>9.0</td>\n",
       "      <td>1</td>\n",
       "      <td>1</td>\n",
       "      <td>-1.202301</td>\n",
       "      <td>1986-12-31</td>\n",
       "      <td>536457600000000000</td>\n",
       "      <td>0.846135</td>\n",
       "      <td>(-75.026, -59.75]</td>\n",
       "      <td>(0.639, 91.25]</td>\n",
       "    </tr>\n",
       "    <tr>\n",
       "      <th>1</th>\n",
       "      <td>1</td>\n",
       "      <td>-74.875</td>\n",
       "      <td>164.625</td>\n",
       "      <td>1</td>\n",
       "      <td>5.0</td>\n",
       "      <td>6.265167</td>\n",
       "      <td>1.269172</td>\n",
       "      <td>0.417678</td>\n",
       "      <td>0.287250</td>\n",
       "      <td>0.094533</td>\n",
       "      <td>...</td>\n",
       "      <td>1.528319</td>\n",
       "      <td>16.0</td>\n",
       "      <td>21</td>\n",
       "      <td>32</td>\n",
       "      <td>-1.103370</td>\n",
       "      <td>1987-01-21</td>\n",
       "      <td>539136000000000000</td>\n",
       "      <td>0.815611</td>\n",
       "      <td>(-75.026, -59.75]</td>\n",
       "      <td>(0.639, 91.25]</td>\n",
       "    </tr>\n",
       "    <tr>\n",
       "      <th>2</th>\n",
       "      <td>2</td>\n",
       "      <td>-74.875</td>\n",
       "      <td>164.625</td>\n",
       "      <td>1</td>\n",
       "      <td>11.0</td>\n",
       "      <td>9.585366</td>\n",
       "      <td>1.713322</td>\n",
       "      <td>0.563845</td>\n",
       "      <td>0.035686</td>\n",
       "      <td>0.011744</td>\n",
       "      <td>...</td>\n",
       "      <td>0.187730</td>\n",
       "      <td>18.0</td>\n",
       "      <td>232</td>\n",
       "      <td>244</td>\n",
       "      <td>-1.168743</td>\n",
       "      <td>1988-08-19</td>\n",
       "      <td>588988800000000000</td>\n",
       "      <td>0.979598</td>\n",
       "      <td>(-75.026, -59.75]</td>\n",
       "      <td>(181.5, 271.75]</td>\n",
       "    </tr>\n",
       "    <tr>\n",
       "      <th>3</th>\n",
       "      <td>3</td>\n",
       "      <td>-74.875</td>\n",
       "      <td>164.625</td>\n",
       "      <td>1</td>\n",
       "      <td>14.0</td>\n",
       "      <td>10.139295</td>\n",
       "      <td>1.711648</td>\n",
       "      <td>0.563294</td>\n",
       "      <td>0.033256</td>\n",
       "      <td>0.010944</td>\n",
       "      <td>...</td>\n",
       "      <td>0.174102</td>\n",
       "      <td>19.0</td>\n",
       "      <td>196</td>\n",
       "      <td>201</td>\n",
       "      <td>-1.181397</td>\n",
       "      <td>1989-07-15</td>\n",
       "      <td>616896000000000000</td>\n",
       "      <td>0.980941</td>\n",
       "      <td>(-75.026, -59.75]</td>\n",
       "      <td>(181.5, 271.75]</td>\n",
       "    </tr>\n",
       "    <tr>\n",
       "      <th>4</th>\n",
       "      <td>4</td>\n",
       "      <td>-74.875</td>\n",
       "      <td>164.625</td>\n",
       "      <td>1</td>\n",
       "      <td>37.0</td>\n",
       "      <td>6.210158</td>\n",
       "      <td>1.715494</td>\n",
       "      <td>0.564560</td>\n",
       "      <td>0.029738</td>\n",
       "      <td>0.009786</td>\n",
       "      <td>...</td>\n",
       "      <td>0.156030</td>\n",
       "      <td>12.0</td>\n",
       "      <td>215</td>\n",
       "      <td>220</td>\n",
       "      <td>-1.219370</td>\n",
       "      <td>1995-08-03</td>\n",
       "      <td>807840000000000000</td>\n",
       "      <td>0.982961</td>\n",
       "      <td>(-75.026, -59.75]</td>\n",
       "      <td>(181.5, 271.75]</td>\n",
       "    </tr>\n",
       "  </tbody>\n",
       "</table>\n",
       "<p>5 rows × 22 columns</p>\n",
       "</div>"
      ],
      "text/plain": [
       "   Unnamed: 0     lat      lon  isolate   mhw  detriment_sum  \\\n",
       "0           0 -74.875  164.625        1   4.0       3.433027   \n",
       "1           1 -74.875  164.625        1   5.0       6.265167   \n",
       "2           2 -74.875  164.625        1  11.0       9.585366   \n",
       "3           3 -74.875  164.625        1  14.0      10.139295   \n",
       "4           4 -74.875  164.625        1  37.0       6.210158   \n",
       "\n",
       "   relative_detriment_mean  detriment_mean  performance_diff_mean  \\\n",
       "0                 1.303966        0.429128               0.237193   \n",
       "1                 1.269172        0.417678               0.287250   \n",
       "2                 1.713322        0.563845               0.035686   \n",
       "3                 1.711648        0.563294               0.033256   \n",
       "4                 1.715494        0.564560               0.029738   \n",
       "\n",
       "   performance_diff_unscaled_mean  ...  intensity_mean  duration  start_doy  \\\n",
       "0                        0.078059  ...        1.297811       9.0          1   \n",
       "1                        0.094533  ...        1.528319      16.0         21   \n",
       "2                        0.011744  ...        0.187730      18.0        232   \n",
       "3                        0.010944  ...        0.174102      19.0        196   \n",
       "4                        0.009786  ...        0.156030      12.0        215   \n",
       "\n",
       "   peak_doy  current_year_sst_mean  start_date           peak_date  \\\n",
       "0         1              -1.202301  1986-12-31  536457600000000000   \n",
       "1        32              -1.103370  1987-01-21  539136000000000000   \n",
       "2       244              -1.168743  1988-08-19  588988800000000000   \n",
       "3       201              -1.181397  1989-07-15  616896000000000000   \n",
       "4       220              -1.219370  1995-08-03  807840000000000000   \n",
       "\n",
       "  perf_det_ratio             latbin         doy_bins  \n",
       "0       0.846135  (-75.026, -59.75]   (0.639, 91.25]  \n",
       "1       0.815611  (-75.026, -59.75]   (0.639, 91.25]  \n",
       "2       0.979598  (-75.026, -59.75]  (181.5, 271.75]  \n",
       "3       0.980941  (-75.026, -59.75]  (181.5, 271.75]  \n",
       "4       0.982961  (-75.026, -59.75]  (181.5, 271.75]  \n",
       "\n",
       "[5 rows x 22 columns]"
      ]
     },
     "execution_count": 3,
     "metadata": {},
     "output_type": "execute_result"
    }
   ],
   "source": [
    "mhws = pd.read_csv(\"../../analysis/isolate_performance_withnegative.csv\", parse_dates = ['peak_date', 'start_date'])\n",
    "mhws.head()"
   ]
  },
  {
   "cell_type": "markdown",
   "metadata": {},
   "source": [
    "## Analysis Design\n",
    " \n",
    "### Grab a set of isolates that are not too close to shore (how close?)"
   ]
  },
  {
   "cell_type": "code",
   "execution_count": 4,
   "metadata": {},
   "outputs": [],
   "source": [
    "min_land_distance_m = 500 * 1000 # 1000 km "
   ]
  },
  {
   "cell_type": "code",
   "execution_count": 5,
   "metadata": {},
   "outputs": [],
   "source": [
    "len(plankton.index.unique())\n",
    "isolate_locations = gpd.GeoSeries(\n",
    "    [\n",
    "        geometry.Point(p['isolation.longitude'], p['isolation.latitude'])\n",
    "        for _, p in plankton.dropna(axis=0, subset=['isolation.longitude', 'isolation.latitude']).groupby('isolate.code').head(1)[['isolation.latitude', 'isolation.longitude']].iterrows()\n",
    "    ],\n",
    "    index=plankton.index,\n",
    "    crs={'init': 'epsg:4326'}\n",
    ")"
   ]
  },
  {
   "cell_type": "code",
   "execution_count": 6,
   "metadata": {},
   "outputs": [
    {
     "data": {
      "text/plain": [
       "isolate.code\n",
       "1     POINT (164.50000 -74.83000)\n",
       "3     POINT (110.48000 -66.28000)\n",
       "5     POINT (-64.06000 -64.78000)\n",
       "11     POINT (62.00000 -58.00000)\n",
       "14    POINT (168.12000 -46.98000)\n",
       "dtype: geometry"
      ]
     },
     "execution_count": 6,
     "metadata": {},
     "output_type": "execute_result"
    }
   ],
   "source": [
    "isolate_locations.head()"
   ]
  },
  {
   "cell_type": "code",
   "execution_count": 7,
   "metadata": {},
   "outputs": [],
   "source": [
    "# Natural Earth Land Polygons (https://www.naturalearthdata.com/)\n",
    "landmasses = gpd.read_file(\"https://naturalearth.s3.amazonaws.com/50m_physical/ne_50m_land.zip\", crs='EPSG:4326').to_crs(epsg=3857)"
   ]
  },
  {
   "cell_type": "code",
   "execution_count": 8,
   "metadata": {},
   "outputs": [],
   "source": [
    "distances =  isolate_locations.to_crs(epsg=3857).distance(landmasses.cascaded_union).sort_values(ascending=False)"
   ]
  },
  {
   "cell_type": "code",
   "execution_count": 9,
   "metadata": {},
   "outputs": [],
   "source": [
    "plankton['land_distance'] = distances"
   ]
  },
  {
   "cell_type": "code",
   "execution_count": 10,
   "metadata": {},
   "outputs": [],
   "source": [
    "distant_plankton =plankton[plankton.land_distance > min_land_distance_m]"
   ]
  },
  {
   "cell_type": "markdown",
   "metadata": {},
   "source": [
    "### How many MHW days have each of these experienced?"
   ]
  },
  {
   "cell_type": "code",
   "execution_count": 11,
   "metadata": {},
   "outputs": [
    {
     "data": {
      "text/plain": [
       "isolate\n",
       "365    1213.0\n",
       "240    1094.0\n",
       "364     999.0\n",
       "89      911.0\n",
       "558     909.0\n",
       "45      868.0\n",
       "11      863.0\n",
       "358     833.0\n",
       "Name: duration, dtype: float64"
      ]
     },
     "execution_count": 11,
     "metadata": {},
     "output_type": "execute_result"
    }
   ],
   "source": [
    "mhws[mhws.isolate.isin(distant_plankton.index)].groupby('isolate').duration.sum().sort_values(ascending=False)"
   ]
  },
  {
   "cell_type": "markdown",
   "metadata": {},
   "source": [
    "### Select MHW and non-MHW time periods for these isolates "
   ]
  },
  {
   "cell_type": "code",
   "execution_count": 12,
   "metadata": {},
   "outputs": [
    {
     "data": {
      "text/plain": [
       "Int64Index([11, 45], dtype='int64', name='isolate.code')"
      ]
     },
     "execution_count": 12,
     "metadata": {},
     "output_type": "execute_result"
    }
   ],
   "source": [
    "chosen_isolates = distant_plankton.head(2).index\n",
    "chosen_isolates"
   ]
  },
  {
   "cell_type": "code",
   "execution_count": 13,
   "metadata": {},
   "outputs": [
    {
     "data": {
      "text/html": [
       "<div>\n",
       "<style scoped>\n",
       "    .dataframe tbody tr th:only-of-type {\n",
       "        vertical-align: middle;\n",
       "    }\n",
       "\n",
       "    .dataframe tbody tr th {\n",
       "        vertical-align: top;\n",
       "    }\n",
       "\n",
       "    .dataframe thead th {\n",
       "        text-align: right;\n",
       "    }\n",
       "</style>\n",
       "<table border=\"1\" class=\"dataframe\">\n",
       "  <thead>\n",
       "    <tr style=\"text-align: right;\">\n",
       "      <th></th>\n",
       "      <th>source</th>\n",
       "      <th>isolation.latitude</th>\n",
       "      <th>isolation.longitude</th>\n",
       "      <th>habitat</th>\n",
       "      <th>name</th>\n",
       "      <th>speciesname</th>\n",
       "      <th>former.name.1</th>\n",
       "      <th>former.name.2</th>\n",
       "      <th>strain</th>\n",
       "      <th>clone</th>\n",
       "      <th>...</th>\n",
       "      <th>maxqual</th>\n",
       "      <th>curvequal</th>\n",
       "      <th>abs.curveskew</th>\n",
       "      <th>rel.curveskew</th>\n",
       "      <th>used.for.optimum.analysis</th>\n",
       "      <th>used.for.tmax.analysis</th>\n",
       "      <th>used.for.tmin.analysis</th>\n",
       "      <th>used.for.niche.width.analysis</th>\n",
       "      <th>used.for.max.growth.rate.analysis</th>\n",
       "      <th>land_distance</th>\n",
       "    </tr>\n",
       "    <tr>\n",
       "      <th>isolate.code</th>\n",
       "      <th></th>\n",
       "      <th></th>\n",
       "      <th></th>\n",
       "      <th></th>\n",
       "      <th></th>\n",
       "      <th></th>\n",
       "      <th></th>\n",
       "      <th></th>\n",
       "      <th></th>\n",
       "      <th></th>\n",
       "      <th></th>\n",
       "      <th></th>\n",
       "      <th></th>\n",
       "      <th></th>\n",
       "      <th></th>\n",
       "      <th></th>\n",
       "      <th></th>\n",
       "      <th></th>\n",
       "      <th></th>\n",
       "      <th></th>\n",
       "      <th></th>\n",
       "    </tr>\n",
       "  </thead>\n",
       "  <tbody>\n",
       "    <tr>\n",
       "      <th>11</th>\n",
       "      <td>Southern Ocean, Indian sector</td>\n",
       "      <td>-58.00</td>\n",
       "      <td>62.00</td>\n",
       "      <td>marine</td>\n",
       "      <td>Pseudo-nitzschia turgiduloides</td>\n",
       "      <td>Pseudo-nitzschia turgiduloides</td>\n",
       "      <td>Nitzschia turgiduloides</td>\n",
       "      <td>NaN</td>\n",
       "      <td>NaN</td>\n",
       "      <td>NaN</td>\n",
       "      <td>...</td>\n",
       "      <td>good</td>\n",
       "      <td>good</td>\n",
       "      <td>-4.634105</td>\n",
       "      <td>-0.004083</td>\n",
       "      <td>1.0</td>\n",
       "      <td>1.0</td>\n",
       "      <td>1.0</td>\n",
       "      <td>1.0</td>\n",
       "      <td>1.0</td>\n",
       "      <td>1.590694e+06</td>\n",
       "    </tr>\n",
       "    <tr>\n",
       "      <th>45</th>\n",
       "      <td>NaN</td>\n",
       "      <td>-11.54</td>\n",
       "      <td>-28.58</td>\n",
       "      <td>marine</td>\n",
       "      <td>Pernambugia tuberosa strain GeoB*74</td>\n",
       "      <td>Pernambugia tuberosa</td>\n",
       "      <td>NaN</td>\n",
       "      <td>NaN</td>\n",
       "      <td>GeoB*74</td>\n",
       "      <td>NaN</td>\n",
       "      <td>...</td>\n",
       "      <td>good</td>\n",
       "      <td>good</td>\n",
       "      <td>-85.503149</td>\n",
       "      <td>-0.009196</td>\n",
       "      <td>1.0</td>\n",
       "      <td>1.0</td>\n",
       "      <td>1.0</td>\n",
       "      <td>1.0</td>\n",
       "      <td>1.0</td>\n",
       "      <td>7.895010e+05</td>\n",
       "    </tr>\n",
       "  </tbody>\n",
       "</table>\n",
       "<p>2 rows × 44 columns</p>\n",
       "</div>"
      ],
      "text/plain": [
       "                                     source  isolation.latitude  \\\n",
       "isolate.code                                                      \n",
       "11            Southern Ocean, Indian sector              -58.00   \n",
       "45                                      NaN              -11.54   \n",
       "\n",
       "              isolation.longitude habitat  \\\n",
       "isolate.code                                \n",
       "11                          62.00  marine   \n",
       "45                         -28.58  marine   \n",
       "\n",
       "                                             name  \\\n",
       "isolate.code                                        \n",
       "11                 Pseudo-nitzschia turgiduloides   \n",
       "45            Pernambugia tuberosa strain GeoB*74   \n",
       "\n",
       "                                 speciesname            former.name.1  \\\n",
       "isolate.code                                                            \n",
       "11            Pseudo-nitzschia turgiduloides  Nitzschia turgiduloides   \n",
       "45                      Pernambugia tuberosa                      NaN   \n",
       "\n",
       "             former.name.2   strain clone  ... maxqual curvequal  \\\n",
       "isolate.code                               ...                     \n",
       "11                     NaN      NaN   NaN  ...    good      good   \n",
       "45                     NaN  GeoB*74   NaN  ...    good      good   \n",
       "\n",
       "             abs.curveskew rel.curveskew used.for.optimum.analysis  \\\n",
       "isolate.code                                                         \n",
       "11               -4.634105     -0.004083                       1.0   \n",
       "45              -85.503149     -0.009196                       1.0   \n",
       "\n",
       "             used.for.tmax.analysis used.for.tmin.analysis  \\\n",
       "isolate.code                                                 \n",
       "11                              1.0                    1.0   \n",
       "45                              1.0                    1.0   \n",
       "\n",
       "             used.for.niche.width.analysis used.for.max.growth.rate.analysis  \\\n",
       "isolate.code                                                                   \n",
       "11                                     1.0                               1.0   \n",
       "45                                     1.0                               1.0   \n",
       "\n",
       "             land_distance  \n",
       "isolate.code                \n",
       "11            1.590694e+06  \n",
       "45            7.895010e+05  \n",
       "\n",
       "[2 rows x 44 columns]"
      ]
     },
     "execution_count": 13,
     "metadata": {},
     "output_type": "execute_result"
    }
   ],
   "source": [
    "plankton.loc[chosen_isolates]"
   ]
  },
  {
   "cell_type": "markdown",
   "metadata": {},
   "source": [
    "Find the MHWs from these chosen isolates that are covered by the MODIS chlorophyll record:"
   ]
  },
  {
   "cell_type": "code",
   "execution_count": 14,
   "metadata": {},
   "outputs": [
    {
     "name": "stdout",
     "output_type": "stream",
     "text": [
      "81 MHWS for chosen isolates during MODIS temporal availabilty\n"
     ]
    }
   ],
   "source": [
    "chosen_isolate_mhws = mhws[mhws.isolate.isin(chosen_isolates) & mhws.start_date.between(MODIS_YEARS['start'], MODIS_YEARS['end'])]\n",
    "print(len(chosen_isolate_mhws), \"MHWS for chosen isolates during MODIS temporal availabilty\")"
   ]
  },
  {
   "cell_type": "markdown",
   "metadata": {},
   "source": [
    "Select MHW and non-MHW adjacent periods for top 10 longest MHWs for each isolate:"
   ]
  },
  {
   "cell_type": "code",
   "execution_count": 15,
   "metadata": {},
   "outputs": [],
   "source": [
    "top_isolate_mhws = chosen_isolate_mhws.groupby('isolate').apply(lambda x: x.sort_values('duration', ascending=False).head(10))"
   ]
  },
  {
   "cell_type": "code",
   "execution_count": 16,
   "metadata": {},
   "outputs": [
    {
     "data": {
      "text/plain": [
       "<matplotlib.axes._subplots.AxesSubplot at 0x7fdc62b76cd0>"
      ]
     },
     "execution_count": 16,
     "metadata": {},
     "output_type": "execute_result"
    },
    {
     "data": {
      "image/png": "[encoded data removed]",
      "text/plain": [
       "<Figure size 432x288 with 1 Axes>"
      ]
     },
     "metadata": {
      "needs_background": "light"
     },
     "output_type": "display_data"
    }
   ],
   "source": [
    "top_isolate_mhws.duration.hist()"
   ]
  },
  {
   "cell_type": "markdown",
   "metadata": {},
   "source": [
    "I feel like we probably don't want to include those really long MHWs? Will keep them for now"
   ]
  },
  {
   "cell_type": "code",
   "execution_count": 17,
   "metadata": {},
   "outputs": [],
   "source": [
    "mhw_periods = top_isolate_mhws.apply(lambda x: [x.start_date, x.start_date + timedelta(days=x.duration)], axis=1)"
   ]
  },
  {
   "cell_type": "markdown",
   "metadata": {},
   "source": [
    "Compute non-mhw periods by adding ~5 days on either end of the MHW event? (2 periods / isolate?)"
   ]
  },
  {
   "cell_type": "code",
   "execution_count": 18,
   "metadata": {},
   "outputs": [],
   "source": [
    "non_mhw_periods = top_isolate_mhws.apply(\n",
    "    lambda x: [\n",
    "        [x.start_date - timedelta(days=6), x.start_date - timedelta(days=1)],\n",
    "        [x.start_date + timedelta(days=x.duration + 1), x.start_date + timedelta(days= x.duration + 6)]\n",
    "    ], \n",
    "    axis=1\n",
    ")"
   ]
  },
  {
   "cell_type": "markdown",
   "metadata": {},
   "source": [
    "Get a list of days for which we need MODIS data: "
   ]
  },
  {
   "cell_type": "code",
   "execution_count": 239,
   "metadata": {},
   "outputs": [],
   "source": [
    "from operator import or_\n",
    "data_needed = (reduce(or_, (map(lambda x: pd.date_range(x[0], x[1]), list(chain(mhw_periods.values))))))"
   ]
  },
  {
   "cell_type": "markdown",
   "metadata": {},
   "source": [
    "Since we're going to use the 8Day Mapped Product from MODIS, we want to know which 8 day period each of these days belong to. "
   ]
  },
  {
   "cell_type": "code",
   "execution_count": 266,
   "metadata": {},
   "outputs": [],
   "source": [
    "periods = reduce(or_, \n",
    "                 (pd.period_range(start=pd.datetime(year, 1, 1),\n",
    "                                  end=pd.datetime(year, 12, 31),\n",
    "                                  freq='8D')\n",
    "                  for year in range(2002, 2021))\n",
    "                )"
   ]
  },
  {
   "cell_type": "code",
   "execution_count": 267,
   "metadata": {},
   "outputs": [
    {
     "data": {
      "text/plain": [
       "PeriodIndex(['2002-08-05', '2002-08-05', '2002-08-05', '2002-08-05',\n",
       "             '2002-08-13', '2002-08-13', '2002-08-13', '2002-08-13',\n",
       "             '2002-08-13', '2002-08-13',\n",
       "             ...\n",
       "             '2018-04-07', '2018-04-07', '2018-04-07', '2018-04-07',\n",
       "             '2018-04-15', '2018-04-15', '2018-04-15', '2018-04-15',\n",
       "             '2018-04-15', '2018-04-15'],\n",
       "            dtype='period[8D]', length=561, freq='8D')"
      ]
     },
     "execution_count": 267,
     "metadata": {},
     "output_type": "execute_result"
    }
   ],
   "source": [
    "data_needed.map(lambda x: periods.asof(x))"
   ]
  },
  {
   "cell_type": "code",
   "execution_count": null,
   "metadata": {},
   "outputs": [],
   "source": []
  },
  {
   "cell_type": "code",
   "execution_count": 303,
   "metadata": {},
   "outputs": [],
   "source": [
    "data_needed = data_needed.to_frame()"
   ]
  },
  {
   "cell_type": "code",
   "execution_count": 304,
   "metadata": {},
   "outputs": [],
   "source": [
    "data_needed['doy'] = data_needed.iloc[:,0].dt.dayofyear"
   ]
  },
  {
   "cell_type": "code",
   "execution_count": 306,
   "metadata": {},
   "outputs": [
    {
     "data": {
      "text/plain": [
       "PeriodIndex(['2002-01-01', '2002-01-09', '2002-01-17', '2002-01-25',\n",
       "             '2002-02-02', '2002-02-10', '2002-02-18', '2002-02-26',\n",
       "             '2002-03-06', '2002-03-14',\n",
       "             ...\n",
       "             '2020-10-15', '2020-10-23', '2020-10-31', '2020-11-08',\n",
       "             '2020-11-16', '2020-11-24', '2020-12-02', '2020-12-10',\n",
       "             '2020-12-18', '2020-12-26'],\n",
       "            dtype='period[8D]', length=874, freq='8D')"
      ]
     },
     "execution_count": 306,
     "metadata": {},
     "output_type": "execute_result"
    }
   ],
   "source": [
    "pd.merge_asof(data_needed, )"
   ]
  },
  {
   "cell_type": "code",
   "execution_count": 314,
   "metadata": {},
   "outputs": [],
   "source": [
    "periods = periods.to_frame()"
   ]
  },
  {
   "cell_type": "code",
   "execution_count": 315,
   "metadata": {},
   "outputs": [],
   "source": [
    "periods['start-doy'] = periods.iloc[:,0].dt.dayofyear"
   ]
  },
  {
   "cell_type": "code",
   "execution_count": 320,
   "metadata": {},
   "outputs": [],
   "source": [
    "dates_with_doy = pd.merge_asof(data_needed.sort_values('doy'), periods.sort_values('start-doy'), left_on='doy', right_on='start-doy', )"
   ]
  },
  {
   "cell_type": "code",
   "execution_count": 324,
   "metadata": {},
   "outputs": [],
   "source": [
    "dates_with_doy = dates_with_doy.rename({\n",
    "    '0_x' : 'date',\n",
    "}, axis=1)[['date', 'start-doy']]"
   ]
  },
  {
   "cell_type": "code",
   "execution_count": 362,
   "metadata": {},
   "outputs": [],
   "source": [
    "unique_dates_with_doy = pd.DataFrame.from_records(list(set(zip(dates_with_doy.date.dt.year, dates_with_doy['start-doy']))), columns=['year', 'start-doy'])"
   ]
  },
  {
   "cell_type": "markdown",
   "metadata": {},
   "source": [
    "## Download Data"
   ]
  },
  {
   "cell_type": "code",
   "execution_count": 135,
   "metadata": {},
   "outputs": [],
   "source": [
    "MODIS_URL_TEMPLATE = (\n",
    "    \"https://oceandata.sci.gsfc.nasa.gov/ob/getfile/\"\n",
    "    \"{satellite[0]}{year}{doy_start:03d}{year}{doy_end:03d}.L3m_{prod}_CHL_chlor_a_{res_km}km.nc\"\n",
    ")"
   ]
  },
  {
   "cell_type": "code",
   "execution_count": 370,
   "metadata": {},
   "outputs": [],
   "source": [
    "urls = list(map(\n",
    "    lambda x: MODIS_URL_TEMPLATE.format(\n",
    "                year=x[1].year,\n",
    "                res_km=4, \n",
    "                satellite=\"Terra\",\n",
    "                doy_start=x[1]['start-doy'],\n",
    "                doy_end=x[1]['start-doy'] + 7 if x[1]['start-doy'] < 361 else pd.to_datetime(pd.datetime(x[1].year, 12, 31)).dayofyear, #leapyears\n",
    "                prod='8D'\n",
    "    ), \n",
    "    unique_dates_with_doy.iterrows()\n",
    "))"
   ]
  },
  {
   "cell_type": "code",
   "execution_count": 22,
   "metadata": {},
   "outputs": [],
   "source": [
    "username = os.environ['EARTHDATA_USERNAME']\n",
    "password = os.environ['EARTHDATA_PASSWORD']\n",
    "\n",
    "! echo \"machine urs.earthdata.nasa.gov login {username} password {password}\" > ~/.netrc && chmod 0600 ~/.netrc\n",
    "! touch .urs_cookies"
   ]
  },
  {
   "cell_type": "code",
   "execution_count": 507,
   "metadata": {},
   "outputs": [],
   "source": [
    "@delayed\n",
    "def download_modis(url, suffix, outdir='.'):\n",
    "    with tempfile.TemporaryDirectory() as tempdir:\n",
    "        original = tempfile.mkstemp(dir=tempdir, suffix='.nc')\n",
    "        subprocess.run(f\"curl --output {original[1]} -b ~/.urs_cookies -c ~/.urs_cookies -L -n {url} \", shell=True)\n",
    "        subprocess.run(f\"gdal_translate -co COMPRESS=LZW -a_srs EPSG:4326 -sds {original[1]} {tempdir}/outputs.tif\", shell=True)\n",
    "        shutil.copy(\n",
    "            os.path.join(tempdir, 'outputs_1.tif'),\n",
    "            os.path.join(outdir, f\"{suffix}.tif\")\n",
    "        )\n",
    "        \n",
    "    return"
   ]
  },
  {
   "cell_type": "code",
   "execution_count": 399,
   "metadata": {},
   "outputs": [],
   "source": [
    "tasks = [download_modis(d[0], f\"{d[1][1].year}_{d[1][1]['start-doy']}\", \"./data\") for d in list(zip(urls, unique_dates_with_doy.iterrows()))]"
   ]
  },
  {
   "cell_type": "code",
   "execution_count": 400,
   "metadata": {},
   "outputs": [
    {
     "name": "stderr",
     "output_type": "stream",
     "text": [
      "/home/ec2-user/miniconda3/envs/notebook/lib/python3.7/site-packages/distributed/dashboard/core.py:72: UserWarning: \n",
      "Port 8787 is already in use. \n",
      "Perhaps you already have a cluster running?\n",
      "Hosting the diagnostics dashboard on a random port instead.\n",
      "  warnings.warn(\"\\n\" + msg)\n"
     ]
    },
    {
     "data": {
      "text/plain": [
       "[<Future: pending, key: download_modis-82e89abb-533c-4d1d-84f7-8a960176b7b1>,\n",
       " <Future: pending, key: download_modis-ba8d3b1e-fa44-4074-9b29-1308cfc27b63>,\n",
       " <Future: pending, key: download_modis-f82dbae4-1218-44b3-9ff7-818c033de183>,\n",
       " <Future: pending, key: download_modis-235b3da6-cb4e-4cab-9502-bc11361ea359>,\n",
       " <Future: pending, key: download_modis-a368cedd-507b-4a68-bccf-616a8d22e5b8>,\n",
       " <Future: pending, key: download_modis-af17fd53-378a-406f-b4d0-eb73e961b935>,\n",
       " <Future: pending, key: download_modis-9067a856-82c7-4c64-9e23-a802d6b37d84>,\n",
       " <Future: pending, key: download_modis-022405bc-987f-4f40-a873-b70de917b3fd>,\n",
       " <Future: pending, key: download_modis-8434a583-ca22-44fc-8a9e-730e28effb24>,\n",
       " <Future: pending, key: download_modis-b9fa3b80-ed81-44dc-adee-15a969aca7c4>,\n",
       " <Future: pending, key: download_modis-5f221a4a-02e6-449e-b99b-19f64dee09ab>,\n",
       " <Future: pending, key: download_modis-19103e11-21eb-427f-88f7-8b7613e92be9>,\n",
       " <Future: pending, key: download_modis-df4fe820-8273-4623-a746-0b39d54828ef>,\n",
       " <Future: pending, key: download_modis-a6355020-27bd-46cb-8eb1-923eceb07fee>,\n",
       " <Future: pending, key: download_modis-6c9ae6fa-d22f-4113-bbc1-9b96d2703d97>,\n",
       " <Future: pending, key: download_modis-64b17599-3d63-4740-acff-7b0506dbc040>,\n",
       " <Future: pending, key: download_modis-74d30f63-8eee-48c0-9f00-b407d5ea25d3>,\n",
       " <Future: pending, key: download_modis-06c98f4a-e6a1-4e26-8762-62ec5bc7854a>,\n",
       " <Future: pending, key: download_modis-2d5b886a-07ba-443c-9a3d-4317d1ef88b6>,\n",
       " <Future: pending, key: download_modis-2040b596-0f74-45e7-9249-111bfe89cebe>,\n",
       " <Future: pending, key: download_modis-590a676c-0cb9-4f15-8834-df9ac077600a>,\n",
       " <Future: pending, key: download_modis-1945e8c3-6c71-4936-8105-0e861e446007>,\n",
       " <Future: pending, key: download_modis-bd6eae11-32cd-4eac-af85-6d9a1c8a2331>,\n",
       " <Future: pending, key: download_modis-f17cf1d7-015a-4a33-a7f2-7b449ddd4535>,\n",
       " <Future: pending, key: download_modis-17b2087f-751c-4eb9-b248-c78ed3343557>,\n",
       " <Future: pending, key: download_modis-4d817f55-a373-46f3-93f9-83355196404b>,\n",
       " <Future: pending, key: download_modis-2f0ddc68-9b7b-4882-ad01-bdf1d57d1d2f>,\n",
       " <Future: pending, key: download_modis-7326d24b-588e-49bf-b75b-d27e27063a51>,\n",
       " <Future: pending, key: download_modis-93250f18-3240-4c0a-8d32-81dd8331ffba>,\n",
       " <Future: pending, key: download_modis-5548a8de-08be-4739-95fe-8f02b91cac31>,\n",
       " <Future: pending, key: download_modis-c7f5d2ca-89c8-47c0-a83c-112bfdc14351>,\n",
       " <Future: pending, key: download_modis-0b695b0f-d404-453b-8b45-6b675280599f>,\n",
       " <Future: pending, key: download_modis-fb0543f1-77ee-4040-81c0-f7fd968ec056>,\n",
       " <Future: pending, key: download_modis-d8d455f7-3c0f-4e64-bfa7-be84a9d1dbcc>,\n",
       " <Future: pending, key: download_modis-2e3f21e7-65a1-4642-af6c-8a117ffeab0e>,\n",
       " <Future: pending, key: download_modis-46d82844-a285-414f-9746-d05e650b86e3>,\n",
       " <Future: pending, key: download_modis-f1370db1-2667-472f-af8f-244d5dcc0d05>,\n",
       " <Future: pending, key: download_modis-cf19c0f7-ccac-47e9-9715-a12500e07965>,\n",
       " <Future: pending, key: download_modis-585ceeca-9681-4333-b475-7a732c117a8b>,\n",
       " <Future: pending, key: download_modis-343eebba-ca2d-4912-b628-79b373fdd578>,\n",
       " <Future: pending, key: download_modis-7c3e1cd3-e0ce-47e1-96f4-abfd7dbd600a>,\n",
       " <Future: pending, key: download_modis-7e793e6b-3074-4d38-a2ab-aac0591b377c>,\n",
       " <Future: pending, key: download_modis-839caff5-8324-4025-9e68-71c228c45a85>,\n",
       " <Future: pending, key: download_modis-32c18dd2-293e-4b90-840f-68e2b5bab243>,\n",
       " <Future: pending, key: download_modis-37afc536-e6c1-45b1-af03-cedd9bc65be4>,\n",
       " <Future: pending, key: download_modis-78e5da32-2ebe-466d-933c-cfd817896ca3>,\n",
       " <Future: pending, key: download_modis-f1e668fe-8a43-4d90-806e-ee83aea1ecd0>,\n",
       " <Future: pending, key: download_modis-fd8fba13-1f52-4f43-87fc-cb424c875894>,\n",
       " <Future: pending, key: download_modis-04c45f17-5eb6-4a6e-ab01-8ba75ee4b5b2>,\n",
       " <Future: pending, key: download_modis-cb4b4f7f-2eb0-4e28-9686-7f759b066b15>,\n",
       " <Future: pending, key: download_modis-6baf3e13-db70-4a7e-9b8b-85520070877e>,\n",
       " <Future: pending, key: download_modis-cbdb4140-be9f-4337-a216-20927c31d74c>,\n",
       " <Future: pending, key: download_modis-cbbd7838-ae2a-4a4b-8951-db42b193993f>,\n",
       " <Future: pending, key: download_modis-70f61cef-daae-4336-be15-9cede88a8a40>,\n",
       " <Future: pending, key: download_modis-57815150-2132-464f-bb07-f642b36ddd1a>,\n",
       " <Future: pending, key: download_modis-32b71ab4-6889-49ce-9ba6-80c062c686b9>,\n",
       " <Future: pending, key: download_modis-154e2f5d-c823-415c-858b-e997baefeff7>,\n",
       " <Future: pending, key: download_modis-56b75f33-3182-4a66-a3b3-91fa2376c663>,\n",
       " <Future: pending, key: download_modis-d8b007f8-0d86-4aa7-9eb4-ee37bf1608b3>,\n",
       " <Future: pending, key: download_modis-d06b01f5-67df-4136-b25e-aef123cc34ea>,\n",
       " <Future: pending, key: download_modis-137e0578-58c9-4046-abf9-8c6018e95ede>,\n",
       " <Future: pending, key: download_modis-8dce8051-3846-41e3-a1b2-bbad3f03242a>,\n",
       " <Future: pending, key: download_modis-a510a154-9721-4642-8bc4-63f6b2931e47>,\n",
       " <Future: pending, key: download_modis-05c6a5f5-534a-4163-87c0-fd0c7f97f6f2>,\n",
       " <Future: pending, key: download_modis-756fd7d1-76c8-4922-a4de-6ed88601a5fb>,\n",
       " <Future: pending, key: download_modis-6ee91fd6-1604-49f4-921e-9be1e59dab49>,\n",
       " <Future: pending, key: download_modis-361eb776-eab5-465b-9966-f63e945743df>,\n",
       " <Future: pending, key: download_modis-b2d8afbd-e083-4aae-be52-c4bbbbfcfc87>,\n",
       " <Future: pending, key: download_modis-a3ec30ff-8759-460e-895e-959cade82fca>,\n",
       " <Future: pending, key: download_modis-2cb5a74e-580b-438d-b0ec-9e9f34c42cdf>,\n",
       " <Future: pending, key: download_modis-0f4afdab-47b4-436a-b5fe-85cdff111235>,\n",
       " <Future: pending, key: download_modis-fdc2debd-92e8-4453-b7f7-6db702feadc8>,\n",
       " <Future: pending, key: download_modis-93968e38-8b85-45ad-8811-be62cfe8e9a2>,\n",
       " <Future: pending, key: download_modis-a7227f4c-6cb5-4fe9-ae8e-fa68970fb798>,\n",
       " <Future: pending, key: download_modis-b6f1a7a7-31e4-4bc5-8b45-29d239d1d80a>,\n",
       " <Future: pending, key: download_modis-d2a45a07-805b-4359-98f9-95e925739c9e>,\n",
       " <Future: pending, key: download_modis-bf09f3ac-0eee-4c6c-86a7-6d4ae947d453>,\n",
       " <Future: pending, key: download_modis-29979407-cd61-44df-a8a6-ccd63cad7521>,\n",
       " <Future: pending, key: download_modis-9452b2ea-6ead-4613-95c0-654c671d4b6b>,\n",
       " <Future: pending, key: download_modis-7df8be70-fa44-4248-920a-2817eec3cf6f>,\n",
       " <Future: pending, key: download_modis-b5c0df79-6b06-47cb-aab8-b34f05686d19>,\n",
       " <Future: pending, key: download_modis-c46c2f9d-0b79-48f3-8676-c097761991f1>,\n",
       " <Future: pending, key: download_modis-69726274-269c-431c-a1ab-dd1961e9ea4b>,\n",
       " <Future: pending, key: download_modis-a04106f7-bc5b-4eb0-89cf-b3581c758b19>,\n",
       " <Future: pending, key: download_modis-140cf4da-d5ee-48ac-9690-01ddfd958e35>,\n",
       " <Future: pending, key: download_modis-5ec8c6b5-f0ec-4407-8aca-8989e1131cb3>,\n",
       " <Future: pending, key: download_modis-2f628e6b-2a4e-41b3-ba19-6525315991e6>]"
      ]
     },
     "execution_count": 400,
     "metadata": {},
     "output_type": "execute_result"
    }
   ],
   "source": [
    "client = Client()\n",
    "client.compute(tasks)"
   ]
  },
  {
   "cell_type": "markdown",
   "metadata": {},
   "source": [
    "## Slice data for isolates. \n",
    "\n",
    "How much of a regional buffer should we use? Sentinel-3 analysis used 20km. "
   ]
  },
  {
   "cell_type": "code",
   "execution_count": 421,
   "metadata": {},
   "outputs": [],
   "source": [
    "def get_buffer_wgs84(lat, lon, buffer_m=20_000):\n",
    "    project_merc = partial(\n",
    "        pyproj.transform,\n",
    "        pyproj.Proj(init='epsg:4326'), # source coordinate system\n",
    "        pyproj.Proj(init='epsg:3857')) # mercator, to compute area buffer\n",
    "\n",
    "    project_wgs = partial(\n",
    "        pyproj.transform,\n",
    "        pyproj.Proj(init='epsg:3857'),\n",
    "        pyproj.Proj(init='epsg:4326'))\n",
    "\n",
    "    isolate_point_wgs = geometry.Point(\n",
    "        lon,\n",
    "        lat\n",
    "    )\n",
    "    isolate_point_meters = ops.transform(project_merc, isolate_point_wgs)\n",
    "    merc_buffer = isolate_point_meters.buffer(buffer_m)\n",
    "    print(merc_buffer.area)\n",
    "    return ops.transform(project_wgs, merc_buffer)"
   ]
  },
  {
   "cell_type": "code",
   "execution_count": 577,
   "metadata": {},
   "outputs": [],
   "source": [
    "def get_modis_data(lat, lon, buffer_m, daterange, datapath=\"./data\"):\n",
    "    buffer = get_buffer_wgs84(lat, lon, buffer_m)\n",
    "    _dr = daterange.copy().to_frame().rename({0 : \"date\"}, axis=1)\n",
    "    _dr['_doy'] = _dr.date.dt.dayofyear\n",
    "    _dates_with_doy = pd.merge_asof(_dr.sort_values('_doy'), periods.sort_values('start-doy'), left_on='_doy', right_on='start-doy', )\n",
    "    _unique_dates_with_doy = pd.DataFrame.from_records(list(set(zip(_dates_with_doy.date.dt.year, _dates_with_doy['start-doy']))), columns=['year', 'start-doy'])\n",
    "    _files = []\n",
    "    for year, doy in list(zip(_unique_dates_with_doy.year, _unique_dates_with_doy['start-doy'])):\n",
    "        _fname = os.path.join(datapath, f\"{year}_{doy}.tif\")\n",
    "        try: \n",
    "            os.stat(_fname)\n",
    "            _files.append(_fname)\n",
    "        except FileNotFoundError:\n",
    "            print(f\"Can't find file. [name={_fname}]\")\n",
    "            continue \n",
    "            \n",
    "    for file in _files:\n",
    "        with rio.open(file) as ds:\n",
    "            masked, masked_transform = rasterio.mask.mask(ds, [buffer], crop=True)\n",
    "            print(np.sum((masked == ds.profile['nodata'])), masked.flatten().shape)\n",
    "            print(np.mean(np.ma.array(masked, mask = masked == ds.profile['nodata'])))"
   ]
  },
  {
   "cell_type": "code",
   "execution_count": 578,
   "metadata": {},
   "outputs": [
    {
     "name": "stdout",
     "output_type": "stream",
     "text": [
      "1254619396.218379\n",
      "45 (100,)\n",
      "0.04891001961447976\n",
      "69 (100,)\n",
      "0.05265984996672599\n",
      "49 (100,)\n",
      "0.049390830245672486\n",
      "74 (100,)\n",
      "0.05198797354331383\n",
      "50 (100,)\n",
      "0.04365656852722168\n",
      "51 (100,)\n",
      "0.05306057054169324\n",
      "87 (100,)\n",
      "0.03692080882879404\n",
      "60 (100,)\n",
      "0.053181976079940796\n",
      "49 (100,)\n",
      "0.041159564373539945\n",
      "57 (100,)\n",
      "0.04416552809781806\n"
     ]
    }
   ],
   "source": [
    "test_isolate = distant_plankton.iloc[1]\n",
    "test_isolate_mhw = top_isolate_mhws[top_isolate_mhws.isolate == test_isolate.name].iloc[0]\n",
    "get_modis_data(\n",
    "    test_isolate['isolation.latitude'],\n",
    "    test_isolate['isolation.longitude'],\n",
    "    20_000, \n",
    "    pd.date_range(test_isolate_mhw.start_date, test_isolate_mhw.start_date + timedelta(days=test_isolate_mhw.duration))\n",
    ")"
   ]
  },
  {
   "cell_type": "code",
   "execution_count": 563,
   "metadata": {},
   "outputs": [
    {
     "data": {
      "text/plain": [
       "source                                                               NaN\n",
       "isolation.latitude                                                -11.54\n",
       "isolation.longitude                                               -28.58\n",
       "habitat                                                           marine\n",
       "name                                 Pernambugia tuberosa strain GeoB*74\n",
       "speciesname                                         Pernambugia tuberosa\n",
       "former.name.1                                                        NaN\n",
       "former.name.2                                                        NaN\n",
       "strain                                                           GeoB*74\n",
       "clone                                                                NaN\n",
       "species                                                         tuberosa\n",
       "genus                                                        Pernambugia\n",
       "family                                                               NaN\n",
       "order                                                       Peridiniales\n",
       "class                                                        Dinophyceae\n",
       "phylum                                                         Dinophyta\n",
       "kingdom                                                        Chromista\n",
       "domain                                                         Eukaryota\n",
       "comment                                                              NaN\n",
       "group                                                    dinoflagellates\n",
       "mu.rsqrlist                                                      0.78077\n",
       "mu.wlist                                                         21.0279\n",
       "mu.alist                                                        0.148949\n",
       "mu.blist                                                       0.0339232\n",
       "mu.slist                                                       0.0322653\n",
       "mu.c.opt.list                                                    22.0188\n",
       "mu.c.opt.val.list                                               0.314364\n",
       "mu.g.opt.list                                                     23.838\n",
       "mu.g.opt.val.list                                               0.324365\n",
       "mu.n                                                                   9\n",
       "emp.max.growth                                                   0.36113\n",
       "tmin                                                             11.5048\n",
       "tmax                                                             32.5328\n",
       "minqual                                                             good\n",
       "maxqual                                                             good\n",
       "curvequal                                                           good\n",
       "abs.curveskew                                                   -85.5031\n",
       "rel.curveskew                                                -0.00919584\n",
       "used.for.optimum.analysis                                              1\n",
       "used.for.tmax.analysis                                                 1\n",
       "used.for.tmin.analysis                                                 1\n",
       "used.for.niche.width.analysis                                          1\n",
       "used.for.max.growth.rate.analysis                                      1\n",
       "land_distance                                                     789501\n",
       "Name: 45, dtype: object"
      ]
     },
     "execution_count": 563,
     "metadata": {},
     "output_type": "execute_result"
    }
   ],
   "source": [
    "test_isolate"
   ]
  },
  {
   "cell_type": "code",
   "execution_count": 461,
   "metadata": {},
   "outputs": [
    {
     "data": {
      "text/plain": [
       "source                                                   Southern Ocean, Indian sector\n",
       "isolation.latitude                                                                 -58\n",
       "isolation.longitude                                                                 62\n",
       "habitat                                                                         marine\n",
       "name                                                    Pseudo-nitzschia turgiduloides\n",
       "speciesname                                             Pseudo-nitzschia turgiduloides\n",
       "former.name.1                                                  Nitzschia turgiduloides\n",
       "former.name.2                                                                      NaN\n",
       "strain                                                                             NaN\n",
       "clone                                                                              NaN\n",
       "species                                                                  turgiduloides\n",
       "genus                                                                 Pseudo-nitzschia\n",
       "family                                                                  Bacillariaceae\n",
       "order                                                                    Bacillariales\n",
       "class                                                                Bacillariophyceae\n",
       "phylum                                                                      Ochrophyta\n",
       "kingdom                                                                      Chromista\n",
       "domain                                                                       Eukaryota\n",
       "comment                              Latitude approximate. Based on information fro...\n",
       "group                                                                          diatoms\n",
       "mu.rsqrlist                                                                   0.981583\n",
       "mu.wlist                                                                       10.4311\n",
       "mu.alist                                                                      0.643384\n",
       "mu.blist                                                                     0.0293963\n",
       "mu.slist                                                                     0.0321955\n",
       "mu.c.opt.list                                                                  3.85083\n",
       "mu.c.opt.val.list                                                             0.720498\n",
       "mu.g.opt.list                                                                   4.2487\n",
       "mu.g.opt.val.list                                                             0.724732\n",
       "mu.n                                                                                12\n",
       "emp.max.growth                                                                   0.728\n",
       "tmin                                                                          -1.36473\n",
       "tmax                                                                           9.06639\n",
       "minqual                                                                           good\n",
       "maxqual                                                                           good\n",
       "curvequal                                                                         good\n",
       "abs.curveskew                                                                 -4.63411\n",
       "rel.curveskew                                                              -0.00408295\n",
       "used.for.optimum.analysis                                                            1\n",
       "used.for.tmax.analysis                                                               1\n",
       "used.for.tmin.analysis                                                               1\n",
       "used.for.niche.width.analysis                                                        1\n",
       "used.for.max.growth.rate.analysis                                                    1\n",
       "land_distance                                                              1.59069e+06\n",
       "Name: 11, dtype: object"
      ]
     },
     "execution_count": 461,
     "metadata": {},
     "output_type": "execute_result"
    }
   ],
   "source": []
  },
  {
   "cell_type": "code",
   "execution_count": null,
   "metadata": {},
   "outputs": [],
   "source": []
  }
 ],
 "metadata": {
  "kernelspec": {
   "display_name": "Python 3",
   "language": "python",
   "name": "python3"
  },
  "language_info": {
   "codemirror_mode": {
    "name": "ipython",
    "version": 3
   },
   "file_extension": ".py",
   "mimetype": "text/x-python",
   "name": "python",
   "nbconvert_exporter": "python",
   "pygments_lexer": "ipython3",
   "version": "3.7.6"
  }
 },
 "nbformat": 4,
 "nbformat_minor": 4
}
